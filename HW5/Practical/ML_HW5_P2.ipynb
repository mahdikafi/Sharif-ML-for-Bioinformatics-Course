{
  "nbformat": 4,
  "nbformat_minor": 0,
  "metadata": {
    "accelerator": "GPU",
    "colab": {
      "name": "ML_HW5_P2.ipynb",
      "provenance": [],
      "collapsed_sections": []
    },
    "kernelspec": {
      "display_name": "Python 3",
      "name": "python3"
    },
    "language_info": {
      "name": "python"
    },
    "widgets": {
      "application/vnd.jupyter.widget-state+json": {
        "76cdfdcdf43c4083ad32bb9bacf6668c": {
          "model_module": "@jupyter-widgets/controls",
          "model_name": "HBoxModel",
          "state": {
            "_view_name": "HBoxView",
            "_dom_classes": [],
            "_model_name": "HBoxModel",
            "_view_module": "@jupyter-widgets/controls",
            "_model_module_version": "1.5.0",
            "_view_count": null,
            "_view_module_version": "1.5.0",
            "box_style": "",
            "layout": "IPY_MODEL_2cabe7671e4f4f6a97d59874dae154df",
            "_model_module": "@jupyter-widgets/controls",
            "children": [
              "IPY_MODEL_16e54c7a6fa7422ab9b03bedc0a9cb23",
              "IPY_MODEL_5ec276a3e3c5443d90c2876f889af917"
            ]
          }
        },
        "2cabe7671e4f4f6a97d59874dae154df": {
          "model_module": "@jupyter-widgets/base",
          "model_name": "LayoutModel",
          "state": {
            "_view_name": "LayoutView",
            "grid_template_rows": null,
            "right": null,
            "justify_content": null,
            "_view_module": "@jupyter-widgets/base",
            "overflow": null,
            "_model_module_version": "1.2.0",
            "_view_count": null,
            "flex_flow": null,
            "width": null,
            "min_width": null,
            "border": null,
            "align_items": null,
            "bottom": null,
            "_model_module": "@jupyter-widgets/base",
            "top": null,
            "grid_column": null,
            "overflow_y": null,
            "overflow_x": null,
            "grid_auto_flow": null,
            "grid_area": null,
            "grid_template_columns": null,
            "flex": null,
            "_model_name": "LayoutModel",
            "justify_items": null,
            "grid_row": null,
            "max_height": null,
            "align_content": null,
            "visibility": null,
            "align_self": null,
            "height": null,
            "min_height": null,
            "padding": null,
            "grid_auto_rows": null,
            "grid_gap": null,
            "max_width": null,
            "order": null,
            "_view_module_version": "1.2.0",
            "grid_template_areas": null,
            "object_position": null,
            "object_fit": null,
            "grid_auto_columns": null,
            "margin": null,
            "display": null,
            "left": null
          }
        },
        "16e54c7a6fa7422ab9b03bedc0a9cb23": {
          "model_module": "@jupyter-widgets/controls",
          "model_name": "FloatProgressModel",
          "state": {
            "_view_name": "ProgressView",
            "style": "IPY_MODEL_91c255ccdadf4d918052ec784c9fa8ae",
            "_dom_classes": [],
            "description": "",
            "_model_name": "FloatProgressModel",
            "bar_style": "success",
            "max": 9912422,
            "_view_module": "@jupyter-widgets/controls",
            "_model_module_version": "1.5.0",
            "value": 9912422,
            "_view_count": null,
            "_view_module_version": "1.5.0",
            "orientation": "horizontal",
            "min": 0,
            "description_tooltip": null,
            "_model_module": "@jupyter-widgets/controls",
            "layout": "IPY_MODEL_a70b0a6edd8241f2b13c4bd7a7857e50"
          }
        },
        "5ec276a3e3c5443d90c2876f889af917": {
          "model_module": "@jupyter-widgets/controls",
          "model_name": "HTMLModel",
          "state": {
            "_view_name": "HTMLView",
            "style": "IPY_MODEL_0d79456df6294c44a081105e9906f782",
            "_dom_classes": [],
            "description": "",
            "_model_name": "HTMLModel",
            "placeholder": "​",
            "_view_module": "@jupyter-widgets/controls",
            "_model_module_version": "1.5.0",
            "value": " 9913344/? [00:48&lt;00:00, 205500.92it/s]",
            "_view_count": null,
            "_view_module_version": "1.5.0",
            "description_tooltip": null,
            "_model_module": "@jupyter-widgets/controls",
            "layout": "IPY_MODEL_7767af9f54664f6bb4da8a787fc96ae2"
          }
        },
        "91c255ccdadf4d918052ec784c9fa8ae": {
          "model_module": "@jupyter-widgets/controls",
          "model_name": "ProgressStyleModel",
          "state": {
            "_view_name": "StyleView",
            "_model_name": "ProgressStyleModel",
            "description_width": "initial",
            "_view_module": "@jupyter-widgets/base",
            "_model_module_version": "1.5.0",
            "_view_count": null,
            "_view_module_version": "1.2.0",
            "bar_color": null,
            "_model_module": "@jupyter-widgets/controls"
          }
        },
        "a70b0a6edd8241f2b13c4bd7a7857e50": {
          "model_module": "@jupyter-widgets/base",
          "model_name": "LayoutModel",
          "state": {
            "_view_name": "LayoutView",
            "grid_template_rows": null,
            "right": null,
            "justify_content": null,
            "_view_module": "@jupyter-widgets/base",
            "overflow": null,
            "_model_module_version": "1.2.0",
            "_view_count": null,
            "flex_flow": null,
            "width": null,
            "min_width": null,
            "border": null,
            "align_items": null,
            "bottom": null,
            "_model_module": "@jupyter-widgets/base",
            "top": null,
            "grid_column": null,
            "overflow_y": null,
            "overflow_x": null,
            "grid_auto_flow": null,
            "grid_area": null,
            "grid_template_columns": null,
            "flex": null,
            "_model_name": "LayoutModel",
            "justify_items": null,
            "grid_row": null,
            "max_height": null,
            "align_content": null,
            "visibility": null,
            "align_self": null,
            "height": null,
            "min_height": null,
            "padding": null,
            "grid_auto_rows": null,
            "grid_gap": null,
            "max_width": null,
            "order": null,
            "_view_module_version": "1.2.0",
            "grid_template_areas": null,
            "object_position": null,
            "object_fit": null,
            "grid_auto_columns": null,
            "margin": null,
            "display": null,
            "left": null
          }
        },
        "0d79456df6294c44a081105e9906f782": {
          "model_module": "@jupyter-widgets/controls",
          "model_name": "DescriptionStyleModel",
          "state": {
            "_view_name": "StyleView",
            "_model_name": "DescriptionStyleModel",
            "description_width": "",
            "_view_module": "@jupyter-widgets/base",
            "_model_module_version": "1.5.0",
            "_view_count": null,
            "_view_module_version": "1.2.0",
            "_model_module": "@jupyter-widgets/controls"
          }
        },
        "7767af9f54664f6bb4da8a787fc96ae2": {
          "model_module": "@jupyter-widgets/base",
          "model_name": "LayoutModel",
          "state": {
            "_view_name": "LayoutView",
            "grid_template_rows": null,
            "right": null,
            "justify_content": null,
            "_view_module": "@jupyter-widgets/base",
            "overflow": null,
            "_model_module_version": "1.2.0",
            "_view_count": null,
            "flex_flow": null,
            "width": null,
            "min_width": null,
            "border": null,
            "align_items": null,
            "bottom": null,
            "_model_module": "@jupyter-widgets/base",
            "top": null,
            "grid_column": null,
            "overflow_y": null,
            "overflow_x": null,
            "grid_auto_flow": null,
            "grid_area": null,
            "grid_template_columns": null,
            "flex": null,
            "_model_name": "LayoutModel",
            "justify_items": null,
            "grid_row": null,
            "max_height": null,
            "align_content": null,
            "visibility": null,
            "align_self": null,
            "height": null,
            "min_height": null,
            "padding": null,
            "grid_auto_rows": null,
            "grid_gap": null,
            "max_width": null,
            "order": null,
            "_view_module_version": "1.2.0",
            "grid_template_areas": null,
            "object_position": null,
            "object_fit": null,
            "grid_auto_columns": null,
            "margin": null,
            "display": null,
            "left": null
          }
        },
        "bc0155e74c3442e2a8cb941c97ce9e8b": {
          "model_module": "@jupyter-widgets/controls",
          "model_name": "HBoxModel",
          "state": {
            "_view_name": "HBoxView",
            "_dom_classes": [],
            "_model_name": "HBoxModel",
            "_view_module": "@jupyter-widgets/controls",
            "_model_module_version": "1.5.0",
            "_view_count": null,
            "_view_module_version": "1.5.0",
            "box_style": "",
            "layout": "IPY_MODEL_57e0da3a2a04428189475bf820e123ca",
            "_model_module": "@jupyter-widgets/controls",
            "children": [
              "IPY_MODEL_96705b579a30475bb1125c53a9b7ab1b",
              "IPY_MODEL_133af984b40e48c2afa5552651ccca0b"
            ]
          }
        },
        "57e0da3a2a04428189475bf820e123ca": {
          "model_module": "@jupyter-widgets/base",
          "model_name": "LayoutModel",
          "state": {
            "_view_name": "LayoutView",
            "grid_template_rows": null,
            "right": null,
            "justify_content": null,
            "_view_module": "@jupyter-widgets/base",
            "overflow": null,
            "_model_module_version": "1.2.0",
            "_view_count": null,
            "flex_flow": null,
            "width": null,
            "min_width": null,
            "border": null,
            "align_items": null,
            "bottom": null,
            "_model_module": "@jupyter-widgets/base",
            "top": null,
            "grid_column": null,
            "overflow_y": null,
            "overflow_x": null,
            "grid_auto_flow": null,
            "grid_area": null,
            "grid_template_columns": null,
            "flex": null,
            "_model_name": "LayoutModel",
            "justify_items": null,
            "grid_row": null,
            "max_height": null,
            "align_content": null,
            "visibility": null,
            "align_self": null,
            "height": null,
            "min_height": null,
            "padding": null,
            "grid_auto_rows": null,
            "grid_gap": null,
            "max_width": null,
            "order": null,
            "_view_module_version": "1.2.0",
            "grid_template_areas": null,
            "object_position": null,
            "object_fit": null,
            "grid_auto_columns": null,
            "margin": null,
            "display": null,
            "left": null
          }
        },
        "96705b579a30475bb1125c53a9b7ab1b": {
          "model_module": "@jupyter-widgets/controls",
          "model_name": "FloatProgressModel",
          "state": {
            "_view_name": "ProgressView",
            "style": "IPY_MODEL_3e1550793f16445ba4ed01d4c4920aef",
            "_dom_classes": [],
            "description": "",
            "_model_name": "FloatProgressModel",
            "bar_style": "success",
            "max": 28881,
            "_view_module": "@jupyter-widgets/controls",
            "_model_module_version": "1.5.0",
            "value": 28881,
            "_view_count": null,
            "_view_module_version": "1.5.0",
            "orientation": "horizontal",
            "min": 0,
            "description_tooltip": null,
            "_model_module": "@jupyter-widgets/controls",
            "layout": "IPY_MODEL_f89b0320503346cda81f59cc71fb75eb"
          }
        },
        "133af984b40e48c2afa5552651ccca0b": {
          "model_module": "@jupyter-widgets/controls",
          "model_name": "HTMLModel",
          "state": {
            "_view_name": "HTMLView",
            "style": "IPY_MODEL_ec63671db7b546fa8dfbb16ac9f4cd70",
            "_dom_classes": [],
            "description": "",
            "_model_name": "HTMLModel",
            "placeholder": "​",
            "_view_module": "@jupyter-widgets/controls",
            "_model_module_version": "1.5.0",
            "value": " 29696/? [00:00&lt;00:00, 68961.00it/s]",
            "_view_count": null,
            "_view_module_version": "1.5.0",
            "description_tooltip": null,
            "_model_module": "@jupyter-widgets/controls",
            "layout": "IPY_MODEL_cfd4215b8b3a4b1fbcaba1991e2804d7"
          }
        },
        "3e1550793f16445ba4ed01d4c4920aef": {
          "model_module": "@jupyter-widgets/controls",
          "model_name": "ProgressStyleModel",
          "state": {
            "_view_name": "StyleView",
            "_model_name": "ProgressStyleModel",
            "description_width": "initial",
            "_view_module": "@jupyter-widgets/base",
            "_model_module_version": "1.5.0",
            "_view_count": null,
            "_view_module_version": "1.2.0",
            "bar_color": null,
            "_model_module": "@jupyter-widgets/controls"
          }
        },
        "f89b0320503346cda81f59cc71fb75eb": {
          "model_module": "@jupyter-widgets/base",
          "model_name": "LayoutModel",
          "state": {
            "_view_name": "LayoutView",
            "grid_template_rows": null,
            "right": null,
            "justify_content": null,
            "_view_module": "@jupyter-widgets/base",
            "overflow": null,
            "_model_module_version": "1.2.0",
            "_view_count": null,
            "flex_flow": null,
            "width": null,
            "min_width": null,
            "border": null,
            "align_items": null,
            "bottom": null,
            "_model_module": "@jupyter-widgets/base",
            "top": null,
            "grid_column": null,
            "overflow_y": null,
            "overflow_x": null,
            "grid_auto_flow": null,
            "grid_area": null,
            "grid_template_columns": null,
            "flex": null,
            "_model_name": "LayoutModel",
            "justify_items": null,
            "grid_row": null,
            "max_height": null,
            "align_content": null,
            "visibility": null,
            "align_self": null,
            "height": null,
            "min_height": null,
            "padding": null,
            "grid_auto_rows": null,
            "grid_gap": null,
            "max_width": null,
            "order": null,
            "_view_module_version": "1.2.0",
            "grid_template_areas": null,
            "object_position": null,
            "object_fit": null,
            "grid_auto_columns": null,
            "margin": null,
            "display": null,
            "left": null
          }
        },
        "ec63671db7b546fa8dfbb16ac9f4cd70": {
          "model_module": "@jupyter-widgets/controls",
          "model_name": "DescriptionStyleModel",
          "state": {
            "_view_name": "StyleView",
            "_model_name": "DescriptionStyleModel",
            "description_width": "",
            "_view_module": "@jupyter-widgets/base",
            "_model_module_version": "1.5.0",
            "_view_count": null,
            "_view_module_version": "1.2.0",
            "_model_module": "@jupyter-widgets/controls"
          }
        },
        "cfd4215b8b3a4b1fbcaba1991e2804d7": {
          "model_module": "@jupyter-widgets/base",
          "model_name": "LayoutModel",
          "state": {
            "_view_name": "LayoutView",
            "grid_template_rows": null,
            "right": null,
            "justify_content": null,
            "_view_module": "@jupyter-widgets/base",
            "overflow": null,
            "_model_module_version": "1.2.0",
            "_view_count": null,
            "flex_flow": null,
            "width": null,
            "min_width": null,
            "border": null,
            "align_items": null,
            "bottom": null,
            "_model_module": "@jupyter-widgets/base",
            "top": null,
            "grid_column": null,
            "overflow_y": null,
            "overflow_x": null,
            "grid_auto_flow": null,
            "grid_area": null,
            "grid_template_columns": null,
            "flex": null,
            "_model_name": "LayoutModel",
            "justify_items": null,
            "grid_row": null,
            "max_height": null,
            "align_content": null,
            "visibility": null,
            "align_self": null,
            "height": null,
            "min_height": null,
            "padding": null,
            "grid_auto_rows": null,
            "grid_gap": null,
            "max_width": null,
            "order": null,
            "_view_module_version": "1.2.0",
            "grid_template_areas": null,
            "object_position": null,
            "object_fit": null,
            "grid_auto_columns": null,
            "margin": null,
            "display": null,
            "left": null
          }
        },
        "9ed12e6c2fb04332b3195a5652d15ed0": {
          "model_module": "@jupyter-widgets/controls",
          "model_name": "HBoxModel",
          "state": {
            "_view_name": "HBoxView",
            "_dom_classes": [],
            "_model_name": "HBoxModel",
            "_view_module": "@jupyter-widgets/controls",
            "_model_module_version": "1.5.0",
            "_view_count": null,
            "_view_module_version": "1.5.0",
            "box_style": "",
            "layout": "IPY_MODEL_46c1c5965d2f40a98e309811033b33a1",
            "_model_module": "@jupyter-widgets/controls",
            "children": [
              "IPY_MODEL_a2a27ea70e4146c79789f5a627c77629",
              "IPY_MODEL_99368c3f37c7466a8d4eeceb665cf09a"
            ]
          }
        },
        "46c1c5965d2f40a98e309811033b33a1": {
          "model_module": "@jupyter-widgets/base",
          "model_name": "LayoutModel",
          "state": {
            "_view_name": "LayoutView",
            "grid_template_rows": null,
            "right": null,
            "justify_content": null,
            "_view_module": "@jupyter-widgets/base",
            "overflow": null,
            "_model_module_version": "1.2.0",
            "_view_count": null,
            "flex_flow": null,
            "width": null,
            "min_width": null,
            "border": null,
            "align_items": null,
            "bottom": null,
            "_model_module": "@jupyter-widgets/base",
            "top": null,
            "grid_column": null,
            "overflow_y": null,
            "overflow_x": null,
            "grid_auto_flow": null,
            "grid_area": null,
            "grid_template_columns": null,
            "flex": null,
            "_model_name": "LayoutModel",
            "justify_items": null,
            "grid_row": null,
            "max_height": null,
            "align_content": null,
            "visibility": null,
            "align_self": null,
            "height": null,
            "min_height": null,
            "padding": null,
            "grid_auto_rows": null,
            "grid_gap": null,
            "max_width": null,
            "order": null,
            "_view_module_version": "1.2.0",
            "grid_template_areas": null,
            "object_position": null,
            "object_fit": null,
            "grid_auto_columns": null,
            "margin": null,
            "display": null,
            "left": null
          }
        },
        "a2a27ea70e4146c79789f5a627c77629": {
          "model_module": "@jupyter-widgets/controls",
          "model_name": "FloatProgressModel",
          "state": {
            "_view_name": "ProgressView",
            "style": "IPY_MODEL_69fa5897acba448eb9dd845ab639bd1a",
            "_dom_classes": [],
            "description": "",
            "_model_name": "FloatProgressModel",
            "bar_style": "success",
            "max": 1648877,
            "_view_module": "@jupyter-widgets/controls",
            "_model_module_version": "1.5.0",
            "value": 1648877,
            "_view_count": null,
            "_view_module_version": "1.5.0",
            "orientation": "horizontal",
            "min": 0,
            "description_tooltip": null,
            "_model_module": "@jupyter-widgets/controls",
            "layout": "IPY_MODEL_2e7797a9a0d343919c5e01966f2e1a6a"
          }
        },
        "99368c3f37c7466a8d4eeceb665cf09a": {
          "model_module": "@jupyter-widgets/controls",
          "model_name": "HTMLModel",
          "state": {
            "_view_name": "HTMLView",
            "style": "IPY_MODEL_4e5148484bc64ee5aa88236cabfe2221",
            "_dom_classes": [],
            "description": "",
            "_model_name": "HTMLModel",
            "placeholder": "​",
            "_view_module": "@jupyter-widgets/controls",
            "_model_module_version": "1.5.0",
            "value": " 1649664/? [00:46&lt;00:00, 35503.72it/s]",
            "_view_count": null,
            "_view_module_version": "1.5.0",
            "description_tooltip": null,
            "_model_module": "@jupyter-widgets/controls",
            "layout": "IPY_MODEL_f3c501f33f634ca4b09370b27ae689e4"
          }
        },
        "69fa5897acba448eb9dd845ab639bd1a": {
          "model_module": "@jupyter-widgets/controls",
          "model_name": "ProgressStyleModel",
          "state": {
            "_view_name": "StyleView",
            "_model_name": "ProgressStyleModel",
            "description_width": "initial",
            "_view_module": "@jupyter-widgets/base",
            "_model_module_version": "1.5.0",
            "_view_count": null,
            "_view_module_version": "1.2.0",
            "bar_color": null,
            "_model_module": "@jupyter-widgets/controls"
          }
        },
        "2e7797a9a0d343919c5e01966f2e1a6a": {
          "model_module": "@jupyter-widgets/base",
          "model_name": "LayoutModel",
          "state": {
            "_view_name": "LayoutView",
            "grid_template_rows": null,
            "right": null,
            "justify_content": null,
            "_view_module": "@jupyter-widgets/base",
            "overflow": null,
            "_model_module_version": "1.2.0",
            "_view_count": null,
            "flex_flow": null,
            "width": null,
            "min_width": null,
            "border": null,
            "align_items": null,
            "bottom": null,
            "_model_module": "@jupyter-widgets/base",
            "top": null,
            "grid_column": null,
            "overflow_y": null,
            "overflow_x": null,
            "grid_auto_flow": null,
            "grid_area": null,
            "grid_template_columns": null,
            "flex": null,
            "_model_name": "LayoutModel",
            "justify_items": null,
            "grid_row": null,
            "max_height": null,
            "align_content": null,
            "visibility": null,
            "align_self": null,
            "height": null,
            "min_height": null,
            "padding": null,
            "grid_auto_rows": null,
            "grid_gap": null,
            "max_width": null,
            "order": null,
            "_view_module_version": "1.2.0",
            "grid_template_areas": null,
            "object_position": null,
            "object_fit": null,
            "grid_auto_columns": null,
            "margin": null,
            "display": null,
            "left": null
          }
        },
        "4e5148484bc64ee5aa88236cabfe2221": {
          "model_module": "@jupyter-widgets/controls",
          "model_name": "DescriptionStyleModel",
          "state": {
            "_view_name": "StyleView",
            "_model_name": "DescriptionStyleModel",
            "description_width": "",
            "_view_module": "@jupyter-widgets/base",
            "_model_module_version": "1.5.0",
            "_view_count": null,
            "_view_module_version": "1.2.0",
            "_model_module": "@jupyter-widgets/controls"
          }
        },
        "f3c501f33f634ca4b09370b27ae689e4": {
          "model_module": "@jupyter-widgets/base",
          "model_name": "LayoutModel",
          "state": {
            "_view_name": "LayoutView",
            "grid_template_rows": null,
            "right": null,
            "justify_content": null,
            "_view_module": "@jupyter-widgets/base",
            "overflow": null,
            "_model_module_version": "1.2.0",
            "_view_count": null,
            "flex_flow": null,
            "width": null,
            "min_width": null,
            "border": null,
            "align_items": null,
            "bottom": null,
            "_model_module": "@jupyter-widgets/base",
            "top": null,
            "grid_column": null,
            "overflow_y": null,
            "overflow_x": null,
            "grid_auto_flow": null,
            "grid_area": null,
            "grid_template_columns": null,
            "flex": null,
            "_model_name": "LayoutModel",
            "justify_items": null,
            "grid_row": null,
            "max_height": null,
            "align_content": null,
            "visibility": null,
            "align_self": null,
            "height": null,
            "min_height": null,
            "padding": null,
            "grid_auto_rows": null,
            "grid_gap": null,
            "max_width": null,
            "order": null,
            "_view_module_version": "1.2.0",
            "grid_template_areas": null,
            "object_position": null,
            "object_fit": null,
            "grid_auto_columns": null,
            "margin": null,
            "display": null,
            "left": null
          }
        },
        "82b86afd7f7146a4b50babe02d3b130b": {
          "model_module": "@jupyter-widgets/controls",
          "model_name": "HBoxModel",
          "state": {
            "_view_name": "HBoxView",
            "_dom_classes": [],
            "_model_name": "HBoxModel",
            "_view_module": "@jupyter-widgets/controls",
            "_model_module_version": "1.5.0",
            "_view_count": null,
            "_view_module_version": "1.5.0",
            "box_style": "",
            "layout": "IPY_MODEL_09dfd5c3d45f4d73af901adebd5ed381",
            "_model_module": "@jupyter-widgets/controls",
            "children": [
              "IPY_MODEL_bd20870b845f4da5b86727871d569cc2",
              "IPY_MODEL_6b73c04b4a5a4c5cb9ffb0914ca1add6"
            ]
          }
        },
        "09dfd5c3d45f4d73af901adebd5ed381": {
          "model_module": "@jupyter-widgets/base",
          "model_name": "LayoutModel",
          "state": {
            "_view_name": "LayoutView",
            "grid_template_rows": null,
            "right": null,
            "justify_content": null,
            "_view_module": "@jupyter-widgets/base",
            "overflow": null,
            "_model_module_version": "1.2.0",
            "_view_count": null,
            "flex_flow": null,
            "width": null,
            "min_width": null,
            "border": null,
            "align_items": null,
            "bottom": null,
            "_model_module": "@jupyter-widgets/base",
            "top": null,
            "grid_column": null,
            "overflow_y": null,
            "overflow_x": null,
            "grid_auto_flow": null,
            "grid_area": null,
            "grid_template_columns": null,
            "flex": null,
            "_model_name": "LayoutModel",
            "justify_items": null,
            "grid_row": null,
            "max_height": null,
            "align_content": null,
            "visibility": null,
            "align_self": null,
            "height": null,
            "min_height": null,
            "padding": null,
            "grid_auto_rows": null,
            "grid_gap": null,
            "max_width": null,
            "order": null,
            "_view_module_version": "1.2.0",
            "grid_template_areas": null,
            "object_position": null,
            "object_fit": null,
            "grid_auto_columns": null,
            "margin": null,
            "display": null,
            "left": null
          }
        },
        "bd20870b845f4da5b86727871d569cc2": {
          "model_module": "@jupyter-widgets/controls",
          "model_name": "FloatProgressModel",
          "state": {
            "_view_name": "ProgressView",
            "style": "IPY_MODEL_8310c3d1adc644c9bc28737bca093ddb",
            "_dom_classes": [],
            "description": "",
            "_model_name": "FloatProgressModel",
            "bar_style": "success",
            "max": 4542,
            "_view_module": "@jupyter-widgets/controls",
            "_model_module_version": "1.5.0",
            "value": 4542,
            "_view_count": null,
            "_view_module_version": "1.5.0",
            "orientation": "horizontal",
            "min": 0,
            "description_tooltip": null,
            "_model_module": "@jupyter-widgets/controls",
            "layout": "IPY_MODEL_55506605c71244cbb5394e4d2cc32b13"
          }
        },
        "6b73c04b4a5a4c5cb9ffb0914ca1add6": {
          "model_module": "@jupyter-widgets/controls",
          "model_name": "HTMLModel",
          "state": {
            "_view_name": "HTMLView",
            "style": "IPY_MODEL_641ec517e6484c86b298da8009d5fa64",
            "_dom_classes": [],
            "description": "",
            "_model_name": "HTMLModel",
            "placeholder": "​",
            "_view_module": "@jupyter-widgets/controls",
            "_model_module_version": "1.5.0",
            "value": " 5120/? [00:00&lt;00:00, 27434.13it/s]",
            "_view_count": null,
            "_view_module_version": "1.5.0",
            "description_tooltip": null,
            "_model_module": "@jupyter-widgets/controls",
            "layout": "IPY_MODEL_a00a562e7abe442db1b556ddde7e9c42"
          }
        },
        "8310c3d1adc644c9bc28737bca093ddb": {
          "model_module": "@jupyter-widgets/controls",
          "model_name": "ProgressStyleModel",
          "state": {
            "_view_name": "StyleView",
            "_model_name": "ProgressStyleModel",
            "description_width": "initial",
            "_view_module": "@jupyter-widgets/base",
            "_model_module_version": "1.5.0",
            "_view_count": null,
            "_view_module_version": "1.2.0",
            "bar_color": null,
            "_model_module": "@jupyter-widgets/controls"
          }
        },
        "55506605c71244cbb5394e4d2cc32b13": {
          "model_module": "@jupyter-widgets/base",
          "model_name": "LayoutModel",
          "state": {
            "_view_name": "LayoutView",
            "grid_template_rows": null,
            "right": null,
            "justify_content": null,
            "_view_module": "@jupyter-widgets/base",
            "overflow": null,
            "_model_module_version": "1.2.0",
            "_view_count": null,
            "flex_flow": null,
            "width": null,
            "min_width": null,
            "border": null,
            "align_items": null,
            "bottom": null,
            "_model_module": "@jupyter-widgets/base",
            "top": null,
            "grid_column": null,
            "overflow_y": null,
            "overflow_x": null,
            "grid_auto_flow": null,
            "grid_area": null,
            "grid_template_columns": null,
            "flex": null,
            "_model_name": "LayoutModel",
            "justify_items": null,
            "grid_row": null,
            "max_height": null,
            "align_content": null,
            "visibility": null,
            "align_self": null,
            "height": null,
            "min_height": null,
            "padding": null,
            "grid_auto_rows": null,
            "grid_gap": null,
            "max_width": null,
            "order": null,
            "_view_module_version": "1.2.0",
            "grid_template_areas": null,
            "object_position": null,
            "object_fit": null,
            "grid_auto_columns": null,
            "margin": null,
            "display": null,
            "left": null
          }
        },
        "641ec517e6484c86b298da8009d5fa64": {
          "model_module": "@jupyter-widgets/controls",
          "model_name": "DescriptionStyleModel",
          "state": {
            "_view_name": "StyleView",
            "_model_name": "DescriptionStyleModel",
            "description_width": "",
            "_view_module": "@jupyter-widgets/base",
            "_model_module_version": "1.5.0",
            "_view_count": null,
            "_view_module_version": "1.2.0",
            "_model_module": "@jupyter-widgets/controls"
          }
        },
        "a00a562e7abe442db1b556ddde7e9c42": {
          "model_module": "@jupyter-widgets/base",
          "model_name": "LayoutModel",
          "state": {
            "_view_name": "LayoutView",
            "grid_template_rows": null,
            "right": null,
            "justify_content": null,
            "_view_module": "@jupyter-widgets/base",
            "overflow": null,
            "_model_module_version": "1.2.0",
            "_view_count": null,
            "flex_flow": null,
            "width": null,
            "min_width": null,
            "border": null,
            "align_items": null,
            "bottom": null,
            "_model_module": "@jupyter-widgets/base",
            "top": null,
            "grid_column": null,
            "overflow_y": null,
            "overflow_x": null,
            "grid_auto_flow": null,
            "grid_area": null,
            "grid_template_columns": null,
            "flex": null,
            "_model_name": "LayoutModel",
            "justify_items": null,
            "grid_row": null,
            "max_height": null,
            "align_content": null,
            "visibility": null,
            "align_self": null,
            "height": null,
            "min_height": null,
            "padding": null,
            "grid_auto_rows": null,
            "grid_gap": null,
            "max_width": null,
            "order": null,
            "_view_module_version": "1.2.0",
            "grid_template_areas": null,
            "object_position": null,
            "object_fit": null,
            "grid_auto_columns": null,
            "margin": null,
            "display": null,
            "left": null
          }
        },
        "2ec0ed4c2ac0482c8056361ae00ad877": {
          "model_module": "@jupyter-widgets/controls",
          "model_name": "HBoxModel",
          "state": {
            "_view_name": "HBoxView",
            "_dom_classes": [],
            "_model_name": "HBoxModel",
            "_view_module": "@jupyter-widgets/controls",
            "_model_module_version": "1.5.0",
            "_view_count": null,
            "_view_module_version": "1.5.0",
            "box_style": "",
            "layout": "IPY_MODEL_2748d657c5e0402db426176bf6caf59f",
            "_model_module": "@jupyter-widgets/controls",
            "children": [
              "IPY_MODEL_c7d6a33c5c8a4524ac7b898c3bf4c150",
              "IPY_MODEL_84730869f993409a9b7a712ebbddb562"
            ]
          }
        },
        "2748d657c5e0402db426176bf6caf59f": {
          "model_module": "@jupyter-widgets/base",
          "model_name": "LayoutModel",
          "state": {
            "_view_name": "LayoutView",
            "grid_template_rows": null,
            "right": null,
            "justify_content": null,
            "_view_module": "@jupyter-widgets/base",
            "overflow": null,
            "_model_module_version": "1.2.0",
            "_view_count": null,
            "flex_flow": null,
            "width": null,
            "min_width": null,
            "border": null,
            "align_items": null,
            "bottom": null,
            "_model_module": "@jupyter-widgets/base",
            "top": null,
            "grid_column": null,
            "overflow_y": null,
            "overflow_x": null,
            "grid_auto_flow": null,
            "grid_area": null,
            "grid_template_columns": null,
            "flex": null,
            "_model_name": "LayoutModel",
            "justify_items": null,
            "grid_row": null,
            "max_height": null,
            "align_content": null,
            "visibility": null,
            "align_self": null,
            "height": null,
            "min_height": null,
            "padding": null,
            "grid_auto_rows": null,
            "grid_gap": null,
            "max_width": null,
            "order": null,
            "_view_module_version": "1.2.0",
            "grid_template_areas": null,
            "object_position": null,
            "object_fit": null,
            "grid_auto_columns": null,
            "margin": null,
            "display": null,
            "left": null
          }
        },
        "c7d6a33c5c8a4524ac7b898c3bf4c150": {
          "model_module": "@jupyter-widgets/controls",
          "model_name": "FloatProgressModel",
          "state": {
            "_view_name": "ProgressView",
            "style": "IPY_MODEL_f85c89e7355540cc94d5d48c04988429",
            "_dom_classes": [],
            "description": "100%",
            "_model_name": "FloatProgressModel",
            "bar_style": "success",
            "max": 235,
            "_view_module": "@jupyter-widgets/controls",
            "_model_module_version": "1.5.0",
            "value": 235,
            "_view_count": null,
            "_view_module_version": "1.5.0",
            "orientation": "horizontal",
            "min": 0,
            "description_tooltip": null,
            "_model_module": "@jupyter-widgets/controls",
            "layout": "IPY_MODEL_43e15190239e4e58b8f9612dd94cbf00"
          }
        },
        "84730869f993409a9b7a712ebbddb562": {
          "model_module": "@jupyter-widgets/controls",
          "model_name": "HTMLModel",
          "state": {
            "_view_name": "HTMLView",
            "style": "IPY_MODEL_b7b0f66a669946b7b7764c78943ce856",
            "_dom_classes": [],
            "description": "",
            "_model_name": "HTMLModel",
            "placeholder": "​",
            "_view_module": "@jupyter-widgets/controls",
            "_model_module_version": "1.5.0",
            "value": " 235/235 [01:45&lt;00:00,  2.22it/s]",
            "_view_count": null,
            "_view_module_version": "1.5.0",
            "description_tooltip": null,
            "_model_module": "@jupyter-widgets/controls",
            "layout": "IPY_MODEL_e99b9caec40c4cd496ab71ebe475e4dc"
          }
        },
        "f85c89e7355540cc94d5d48c04988429": {
          "model_module": "@jupyter-widgets/controls",
          "model_name": "ProgressStyleModel",
          "state": {
            "_view_name": "StyleView",
            "_model_name": "ProgressStyleModel",
            "description_width": "initial",
            "_view_module": "@jupyter-widgets/base",
            "_model_module_version": "1.5.0",
            "_view_count": null,
            "_view_module_version": "1.2.0",
            "bar_color": null,
            "_model_module": "@jupyter-widgets/controls"
          }
        },
        "43e15190239e4e58b8f9612dd94cbf00": {
          "model_module": "@jupyter-widgets/base",
          "model_name": "LayoutModel",
          "state": {
            "_view_name": "LayoutView",
            "grid_template_rows": null,
            "right": null,
            "justify_content": null,
            "_view_module": "@jupyter-widgets/base",
            "overflow": null,
            "_model_module_version": "1.2.0",
            "_view_count": null,
            "flex_flow": null,
            "width": null,
            "min_width": null,
            "border": null,
            "align_items": null,
            "bottom": null,
            "_model_module": "@jupyter-widgets/base",
            "top": null,
            "grid_column": null,
            "overflow_y": null,
            "overflow_x": null,
            "grid_auto_flow": null,
            "grid_area": null,
            "grid_template_columns": null,
            "flex": null,
            "_model_name": "LayoutModel",
            "justify_items": null,
            "grid_row": null,
            "max_height": null,
            "align_content": null,
            "visibility": null,
            "align_self": null,
            "height": null,
            "min_height": null,
            "padding": null,
            "grid_auto_rows": null,
            "grid_gap": null,
            "max_width": null,
            "order": null,
            "_view_module_version": "1.2.0",
            "grid_template_areas": null,
            "object_position": null,
            "object_fit": null,
            "grid_auto_columns": null,
            "margin": null,
            "display": null,
            "left": null
          }
        },
        "b7b0f66a669946b7b7764c78943ce856": {
          "model_module": "@jupyter-widgets/controls",
          "model_name": "DescriptionStyleModel",
          "state": {
            "_view_name": "StyleView",
            "_model_name": "DescriptionStyleModel",
            "description_width": "",
            "_view_module": "@jupyter-widgets/base",
            "_model_module_version": "1.5.0",
            "_view_count": null,
            "_view_module_version": "1.2.0",
            "_model_module": "@jupyter-widgets/controls"
          }
        },
        "e99b9caec40c4cd496ab71ebe475e4dc": {
          "model_module": "@jupyter-widgets/base",
          "model_name": "LayoutModel",
          "state": {
            "_view_name": "LayoutView",
            "grid_template_rows": null,
            "right": null,
            "justify_content": null,
            "_view_module": "@jupyter-widgets/base",
            "overflow": null,
            "_model_module_version": "1.2.0",
            "_view_count": null,
            "flex_flow": null,
            "width": null,
            "min_width": null,
            "border": null,
            "align_items": null,
            "bottom": null,
            "_model_module": "@jupyter-widgets/base",
            "top": null,
            "grid_column": null,
            "overflow_y": null,
            "overflow_x": null,
            "grid_auto_flow": null,
            "grid_area": null,
            "grid_template_columns": null,
            "flex": null,
            "_model_name": "LayoutModel",
            "justify_items": null,
            "grid_row": null,
            "max_height": null,
            "align_content": null,
            "visibility": null,
            "align_self": null,
            "height": null,
            "min_height": null,
            "padding": null,
            "grid_auto_rows": null,
            "grid_gap": null,
            "max_width": null,
            "order": null,
            "_view_module_version": "1.2.0",
            "grid_template_areas": null,
            "object_position": null,
            "object_fit": null,
            "grid_auto_columns": null,
            "margin": null,
            "display": null,
            "left": null
          }
        }
      }
    }
  },
  "cells": [
    {
      "cell_type": "markdown",
      "metadata": {
        "id": "i0LKk6KmvGcX"
      },
      "source": [
        "# CE-40550: Machine Learning for Bioinformatic\n",
        "## HW5 - Generative Adversarial Networks\n",
        "#### 34 Points\n",
        "\n",
        "---\n",
        "\n",
        "Name: Mahdi Kafi\n",
        "\n",
        "Student No.: 99210753\n",
        "\n",
        "---"
      ]
    },
    {
      "cell_type": "markdown",
      "metadata": {
        "id": "8C2E7edUvbye"
      },
      "source": [
        "### 1) Importing Libraries"
      ]
    },
    {
      "cell_type": "code",
      "metadata": {
        "id": "9T7DEwSwuWsF"
      },
      "source": [
        "import torch\n",
        "import numpy as np\n",
        "import torch.nn as nn\n",
        "import torch.nn.functional as F\n",
        "import torch.optim as optim\n",
        "from torchvision import datasets, transforms\n",
        "import matplotlib.pyplot as plt\n",
        "from tqdm.auto import tqdm\n",
        "\n",
        "%matplotlib inline"
      ],
      "execution_count": 1,
      "outputs": []
    },
    {
      "cell_type": "markdown",
      "metadata": {
        "id": "iFJgoMQJIN88"
      },
      "source": [
        "### 2) Auxiliary Modules\n",
        "These are some useful modules that you can use. Please read them carefully and use them wherever you need."
      ]
    },
    {
      "cell_type": "code",
      "metadata": {
        "id": "xWriUWVFIKR8"
      },
      "source": [
        "class Reshape(nn.Module):\n",
        "  \"\"\"\n",
        "  This module reshapes its input to `new_shape`\n",
        "  \"\"\"\n",
        "  def __init__(self, new_shape):\n",
        "    super().__init__()\n",
        "    self.new_shape = new_shape\n",
        "\n",
        "  def forward(self, x):\n",
        "    return x.view(-1, *self.new_shape)\n",
        "\n",
        "class NoiseGenerator(nn.Module):\n",
        "  \"\"\"\n",
        "  This module generates `n` noises with `z_dim` dim from Normal distribution.\n",
        "  \"\"\"\n",
        "  def __init__(self, z_dim):\n",
        "    super().__init__()\n",
        "    self.z_dim = z_dim\n",
        "\n",
        "  def forward(self, n):\n",
        "    noise = torch.randn(n, *self.z_dim).to(device)\n",
        "    return noise"
      ],
      "execution_count": 2,
      "outputs": []
    },
    {
      "cell_type": "markdown",
      "metadata": {
        "id": "nH_eLvHLxgo7"
      },
      "source": [
        "### 3) Helper Functions"
      ]
    },
    {
      "cell_type": "code",
      "metadata": {
        "id": "N8JTJPtnxjFL"
      },
      "source": [
        "def vector_linspace(start, end, steps):\n",
        "  \"\"\"\n",
        "  Vector version of torch linspace\n",
        "  \"\"\"\n",
        "  result = []\n",
        "  for dim in range(start.shape[0]):\n",
        "    result.append(torch.linspace(start[dim], end[dim], steps))\n",
        "  result = torch.stack(result, dim=1).to(device)\n",
        "  return result\n",
        "  \n",
        "def mnist_show(image_batch, rows=1):\n",
        "  \"\"\"\n",
        "  This function gets multiple MNIST images and plots them in the given number of rows.\n",
        "  \"\"\"\n",
        "  image_batch = image_batch.detach().cpu()\n",
        "  image_batch = image_batch.view(-1, 28, 28)\n",
        "  image_batch = image_batch.numpy()\n",
        "\n",
        "  cols = np.ceil(image_batch.shape[0] / rows)\n",
        "  plt.rcParams['figure.figsize'] = (cols, rows)\n",
        "  \n",
        "  for i in range(image_batch.shape[0]):\n",
        "      plt.subplot(rows, cols, i + 1)\n",
        "      plt.imshow(image_batch[i], cmap=\"gray\", vmin=0, vmax=1)\n",
        "      plt.axis('off')\n",
        "  plt.show()\n",
        "\n",
        "def mnist_visulization_helper_fn(trainer):\n",
        "  \"\"\"\n",
        "  Generates fake samples and plots them for you.\n",
        "  \"\"\"\n",
        "  _, fake_samples = trainer.generate_samples(30)\n",
        "  mnist_show(fake_samples, 3)\n",
        "\n",
        "def show_interpolations(trainer, n_rows, n_cols):\n",
        "    \"\"\"\n",
        "    Shows image interpolation (grid of [`n_rows`, `n_cols`]) in input noise space.\n",
        "    \"\"\"\n",
        "    anchor_noises = trainer.noise_generator(4)\n",
        "    left_column = vector_linspace(anchor_noises[0], anchor_noises[1], n_rows)\n",
        "    right_column = vector_linspace(anchor_noises[2], anchor_noises[3], n_rows)\n",
        "    rows = []\n",
        "    for i in range(n_rows):\n",
        "      rows.append(vector_linspace(left_column[i], right_column[i], n_cols))\n",
        "    noises = torch.stack(rows, dim=0).view(n_rows * n_cols, -1)\n",
        "    with torch.no_grad():\n",
        "      fake_imgs = trainer.generator(noises)\n",
        "    mnist_show(fake_imgs, n_rows)"
      ],
      "execution_count": 3,
      "outputs": []
    },
    {
      "cell_type": "markdown",
      "metadata": {
        "id": "tUErPdG4wjyC"
      },
      "source": [
        "### 4) Importing Dataset"
      ]
    },
    {
      "cell_type": "code",
      "metadata": {
        "colab": {
          "base_uri": "https://localhost:8080/",
          "height": 726,
          "referenced_widgets": [
            "76cdfdcdf43c4083ad32bb9bacf6668c",
            "2cabe7671e4f4f6a97d59874dae154df",
            "16e54c7a6fa7422ab9b03bedc0a9cb23",
            "5ec276a3e3c5443d90c2876f889af917",
            "91c255ccdadf4d918052ec784c9fa8ae",
            "a70b0a6edd8241f2b13c4bd7a7857e50",
            "0d79456df6294c44a081105e9906f782",
            "7767af9f54664f6bb4da8a787fc96ae2",
            "bc0155e74c3442e2a8cb941c97ce9e8b",
            "57e0da3a2a04428189475bf820e123ca",
            "96705b579a30475bb1125c53a9b7ab1b",
            "133af984b40e48c2afa5552651ccca0b",
            "3e1550793f16445ba4ed01d4c4920aef",
            "f89b0320503346cda81f59cc71fb75eb",
            "ec63671db7b546fa8dfbb16ac9f4cd70",
            "cfd4215b8b3a4b1fbcaba1991e2804d7",
            "9ed12e6c2fb04332b3195a5652d15ed0",
            "46c1c5965d2f40a98e309811033b33a1",
            "a2a27ea70e4146c79789f5a627c77629",
            "99368c3f37c7466a8d4eeceb665cf09a",
            "69fa5897acba448eb9dd845ab639bd1a",
            "2e7797a9a0d343919c5e01966f2e1a6a",
            "4e5148484bc64ee5aa88236cabfe2221",
            "f3c501f33f634ca4b09370b27ae689e4",
            "82b86afd7f7146a4b50babe02d3b130b",
            "09dfd5c3d45f4d73af901adebd5ed381",
            "bd20870b845f4da5b86727871d569cc2",
            "6b73c04b4a5a4c5cb9ffb0914ca1add6",
            "8310c3d1adc644c9bc28737bca093ddb",
            "55506605c71244cbb5394e4d2cc32b13",
            "641ec517e6484c86b298da8009d5fa64",
            "a00a562e7abe442db1b556ddde7e9c42"
          ]
        },
        "id": "Tx3HVdi4vvS_",
        "outputId": "bcaa73e0-080a-4925-81b7-243645e4db6c"
      },
      "source": [
        "np.random.seed(0)\n",
        "torch.manual_seed(0)\n",
        "BATCH_SIZE = 256\n",
        "device = torch.device(torch.cuda.current_device()) if torch.cuda.is_available() else torch.device('cpu')\n",
        "\n",
        "\n",
        "mnist_dataset_kwargs = {\n",
        "    'download': True,\n",
        "    'transform': transforms.Compose([\n",
        "                                     transforms.ToTensor(),\n",
        "                                     lambda img: img * 2 - 1\n",
        "                                     ])\n",
        "}\n",
        "\n",
        "mnist_dataloader_kwargs = {\n",
        "    'batch_size': BATCH_SIZE, \n",
        "    'pin_memory': True,\n",
        "    'num_workers': 4,\n",
        "    'shuffle': True\n",
        "}\n",
        "\n",
        "mnist_train_dataset = datasets.MNIST('./data', train=True, **mnist_dataset_kwargs)\n",
        "mnist_test_dataset = datasets.MNIST('./data', train=False, **mnist_dataset_kwargs)\n",
        "\n",
        "\n",
        "mnist_train_dataloader = torch.utils.data.DataLoader(mnist_train_dataset, sampler= None, **mnist_dataloader_kwargs)\n",
        "mnist_test_dataloader = torch.utils.data.DataLoader(mnist_test_dataset, sampler= None, **mnist_dataloader_kwargs)\n"
      ],
      "execution_count": 4,
      "outputs": [
        {
          "output_type": "stream",
          "text": [
            "Downloading http://yann.lecun.com/exdb/mnist/train-images-idx3-ubyte.gz\n",
            "Downloading http://yann.lecun.com/exdb/mnist/train-images-idx3-ubyte.gz to ./data/MNIST/raw/train-images-idx3-ubyte.gz\n",
            "Failed to download (trying next):\n",
            "HTTP Error 503: Service Unavailable\n",
            "\n",
            "Downloading https://ossci-datasets.s3.amazonaws.com/mnist/train-images-idx3-ubyte.gz\n",
            "Downloading https://ossci-datasets.s3.amazonaws.com/mnist/train-images-idx3-ubyte.gz to ./data/MNIST/raw/train-images-idx3-ubyte.gz\n"
          ],
          "name": "stdout"
        },
        {
          "output_type": "display_data",
          "data": {
            "application/vnd.jupyter.widget-view+json": {
              "model_id": "76cdfdcdf43c4083ad32bb9bacf6668c",
              "version_minor": 0,
              "version_major": 2
            },
            "text/plain": [
              "HBox(children=(FloatProgress(value=0.0, max=9912422.0), HTML(value='')))"
            ]
          },
          "metadata": {
            "tags": []
          }
        },
        {
          "output_type": "stream",
          "text": [
            "\n",
            "Extracting ./data/MNIST/raw/train-images-idx3-ubyte.gz to ./data/MNIST/raw\n",
            "\n",
            "Downloading http://yann.lecun.com/exdb/mnist/train-labels-idx1-ubyte.gz\n",
            "Downloading http://yann.lecun.com/exdb/mnist/train-labels-idx1-ubyte.gz to ./data/MNIST/raw/train-labels-idx1-ubyte.gz\n"
          ],
          "name": "stdout"
        },
        {
          "output_type": "display_data",
          "data": {
            "application/vnd.jupyter.widget-view+json": {
              "model_id": "bc0155e74c3442e2a8cb941c97ce9e8b",
              "version_minor": 0,
              "version_major": 2
            },
            "text/plain": [
              "HBox(children=(FloatProgress(value=0.0, max=28881.0), HTML(value='')))"
            ]
          },
          "metadata": {
            "tags": []
          }
        },
        {
          "output_type": "stream",
          "text": [
            "\n",
            "Extracting ./data/MNIST/raw/train-labels-idx1-ubyte.gz to ./data/MNIST/raw\n",
            "\n",
            "Downloading http://yann.lecun.com/exdb/mnist/t10k-images-idx3-ubyte.gz\n",
            "Downloading http://yann.lecun.com/exdb/mnist/t10k-images-idx3-ubyte.gz to ./data/MNIST/raw/t10k-images-idx3-ubyte.gz\n"
          ],
          "name": "stdout"
        },
        {
          "output_type": "display_data",
          "data": {
            "application/vnd.jupyter.widget-view+json": {
              "model_id": "9ed12e6c2fb04332b3195a5652d15ed0",
              "version_minor": 0,
              "version_major": 2
            },
            "text/plain": [
              "HBox(children=(FloatProgress(value=0.0, max=1648877.0), HTML(value='')))"
            ]
          },
          "metadata": {
            "tags": []
          }
        },
        {
          "output_type": "stream",
          "text": [
            "\n",
            "Extracting ./data/MNIST/raw/t10k-images-idx3-ubyte.gz to ./data/MNIST/raw\n",
            "\n",
            "Downloading http://yann.lecun.com/exdb/mnist/t10k-labels-idx1-ubyte.gz\n",
            "Failed to download (trying next):\n",
            "HTTP Error 503: Service Unavailable\n",
            "\n",
            "Downloading https://ossci-datasets.s3.amazonaws.com/mnist/t10k-labels-idx1-ubyte.gz\n",
            "Downloading https://ossci-datasets.s3.amazonaws.com/mnist/t10k-labels-idx1-ubyte.gz to ./data/MNIST/raw/t10k-labels-idx1-ubyte.gz\n"
          ],
          "name": "stdout"
        },
        {
          "output_type": "display_data",
          "data": {
            "application/vnd.jupyter.widget-view+json": {
              "model_id": "82b86afd7f7146a4b50babe02d3b130b",
              "version_minor": 0,
              "version_major": 2
            },
            "text/plain": [
              "HBox(children=(FloatProgress(value=0.0, max=4542.0), HTML(value='')))"
            ]
          },
          "metadata": {
            "tags": []
          }
        },
        {
          "output_type": "stream",
          "text": [
            "\n",
            "Extracting ./data/MNIST/raw/t10k-labels-idx1-ubyte.gz to ./data/MNIST/raw\n",
            "\n"
          ],
          "name": "stdout"
        },
        {
          "output_type": "stream",
          "text": [
            "/usr/local/lib/python3.7/dist-packages/torchvision/datasets/mnist.py:498: UserWarning: The given NumPy array is not writeable, and PyTorch does not support non-writeable tensors. This means you can write to the underlying (supposedly non-writeable) NumPy array using the tensor. You may want to copy the array to protect its data or make it writeable before converting it to a tensor. This type of warning will be suppressed for the rest of this program. (Triggered internally at  /pytorch/torch/csrc/utils/tensor_numpy.cpp:180.)\n",
            "  return torch.from_numpy(parsed.astype(m[2], copy=False)).view(*s)\n",
            "/usr/local/lib/python3.7/dist-packages/torch/utils/data/dataloader.py:481: UserWarning: This DataLoader will create 4 worker processes in total. Our suggested max number of worker in current system is 2, which is smaller than what this DataLoader is going to create. Please be aware that excessive worker creation might get DataLoader running slow or even freeze, lower the worker number to avoid potential slowness/freeze if necessary.\n",
            "  cpuset_checked))\n"
          ],
          "name": "stderr"
        }
      ]
    },
    {
      "cell_type": "code",
      "metadata": {
        "colab": {
          "base_uri": "https://localhost:8080/",
          "height": 193
        },
        "id": "NH2fh8CFxLjX",
        "outputId": "48257d77-2a49-4808-8e3d-2c0d43b2b3f2"
      },
      "source": [
        "temp = torch.stack([mnist_train_dataset[i][0] for i in range(30)], dim=0)\n",
        "mnist_show(temp, 3)"
      ],
      "execution_count": 5,
      "outputs": [
        {
          "output_type": "display_data",
          "data": {
            "image/png": "[encoded data removed]",
            "text/plain": [
              "<Figure size 720x216 with 30 Axes>"
            ]
          },
          "metadata": {
            "tags": [],
            "needs_background": "light"
          }
        }
      ]
    },
    {
      "cell_type": "markdown",
      "metadata": {
        "id": "3WQlqV-D2jO2"
      },
      "source": [
        "### 5) Defining Models (6 points)\n",
        "In this section you are going to define generator and discriminator models. Also you should define a module to generate noise."
      ]
    },
    {
      "cell_type": "code",
      "metadata": {
        "colab": {
          "base_uri": "https://localhost:8080/"
        },
        "id": "_iNZVeyx2h-N",
        "outputId": "71bfd073-b58f-4890-bd29-17af52b42e9b"
      },
      "source": [
        "  # Generator part\n",
        "#################### Problem 16 (3 points) ####################\n",
        "# 1) Define `mnist_noise_generator`.\n",
        "# 2) Define `mnist_generator` network.\n",
        "#    Use `LeakyReLU` for intermediate layers.\n",
        "#    Use `Tanh` for the last layer.\n",
        "#    Use convolution layers.\n",
        "#    Can use batch norm, dropout, ...\n",
        "####################################################\n",
        "mnist_noise_generator = NoiseGenerator([100])\n",
        "\n",
        "mnist_generator = nn.Sequential(\n",
        "    nn.ConvTranspose2d(in_channels=100, out_channels=256, kernel_size=4, stride=1, padding=0),\n",
        "    nn.BatchNorm2d(num_features=256),\n",
        "    nn.LeakyReLU(),\n",
        "    nn.ConvTranspose2d(in_channels=256, out_channels=128, kernel_size=4, stride=2, padding=1),\n",
        "    nn.BatchNorm2d(num_features=128),\n",
        "    nn.LeakyReLU(),\n",
        "    nn.ConvTranspose2d(in_channels=128, out_channels=64, kernel_size=4, stride=1, padding=0),\n",
        "    nn.BatchNorm2d(num_features=64),\n",
        "    nn.LeakyReLU(),\n",
        "    nn.ConvTranspose2d(in_channels=64, out_channels=1, kernel_size=8, stride=2, padding=0),\n",
        "    nn.Tanh()\n",
        ")\n",
        "####################### End ########################\n",
        "\n",
        "# Discriminator part\n",
        "#################### Problem 17 (3 points) ####################\n",
        "# 1) Define `mnist_discriminator` network.\n",
        "#    Use `LeakyReLU` for intermediate layers.\n",
        "#    Use `Linear` for the last layer.\n",
        "#    Use convolution layers.\n",
        "#    Can use batch norm, dropout, ...\n",
        "####################################################\n",
        "mnist_discriminator = nn.Sequential(\n",
        "    nn.Conv2d(in_channels=1, out_channels=32, kernel_size=4, stride=2, padding=1), \n",
        "    nn.LeakyReLU(),\n",
        "    nn.Conv2d(in_channels=32, out_channels=64, kernel_size=4, stride=2, padding=1),\n",
        "    nn.BatchNorm2d(num_features=64),\n",
        "    nn.LeakyReLU(),\n",
        "    nn.Conv2d(in_channels=64, out_channels=128, kernel_size=4, stride=1, padding=0),\n",
        "    nn.BatchNorm2d(num_features=128),\n",
        "    nn.LeakyReLU(),\n",
        "    nn.Flatten(),\n",
        "    nn.Linear(in_features=4*4*128, out_features=1),\n",
        "    nn.Sigmoid()\n",
        ")\n",
        "####################### End ########################\n",
        "\n",
        "mnist_generator = mnist_generator.to(device)\n",
        "mnist_discriminator = mnist_discriminator.to(device)\n",
        "\n",
        "print(mnist_generator)\n",
        "print(mnist_discriminator)"
      ],
      "execution_count": 6,
      "outputs": [
        {
          "output_type": "stream",
          "text": [
            "Sequential(\n",
            "  (0): ConvTranspose2d(100, 256, kernel_size=(4, 4), stride=(1, 1))\n",
            "  (1): BatchNorm2d(256, eps=1e-05, momentum=0.1, affine=True, track_running_stats=True)\n",
            "  (2): LeakyReLU(negative_slope=0.01)\n",
            "  (3): ConvTranspose2d(256, 128, kernel_size=(4, 4), stride=(2, 2), padding=(1, 1))\n",
            "  (4): BatchNorm2d(128, eps=1e-05, momentum=0.1, affine=True, track_running_stats=True)\n",
            "  (5): LeakyReLU(negative_slope=0.01)\n",
            "  (6): ConvTranspose2d(128, 64, kernel_size=(4, 4), stride=(1, 1))\n",
            "  (7): BatchNorm2d(64, eps=1e-05, momentum=0.1, affine=True, track_running_stats=True)\n",
            "  (8): LeakyReLU(negative_slope=0.01)\n",
            "  (9): ConvTranspose2d(64, 1, kernel_size=(8, 8), stride=(2, 2))\n",
            "  (10): Tanh()\n",
            ")\n",
            "Sequential(\n",
            "  (0): Conv2d(1, 32, kernel_size=(4, 4), stride=(2, 2), padding=(1, 1))\n",
            "  (1): LeakyReLU(negative_slope=0.01)\n",
            "  (2): Conv2d(32, 64, kernel_size=(4, 4), stride=(2, 2), padding=(1, 1))\n",
            "  (3): BatchNorm2d(64, eps=1e-05, momentum=0.1, affine=True, track_running_stats=True)\n",
            "  (4): LeakyReLU(negative_slope=0.01)\n",
            "  (5): Conv2d(64, 128, kernel_size=(4, 4), stride=(1, 1))\n",
            "  (6): BatchNorm2d(128, eps=1e-05, momentum=0.1, affine=True, track_running_stats=True)\n",
            "  (7): LeakyReLU(negative_slope=0.01)\n",
            "  (8): Flatten(start_dim=1, end_dim=-1)\n",
            "  (9): Linear(in_features=2048, out_features=1, bias=True)\n",
            "  (10): Sigmoid()\n",
            ")\n"
          ],
          "name": "stdout"
        }
      ]
    },
    {
      "cell_type": "markdown",
      "metadata": {
        "id": "TTwPxvqyx_SY"
      },
      "source": [
        "### 6) Training Loop (14 points)\n",
        "In this section you are going to complete the training loop structure code.  "
      ]
    },
    {
      "cell_type": "code",
      "metadata": {
        "id": "CWG7RsT8xPi5"
      },
      "source": [
        "class GANTrainer:\n",
        "  \"\"\"\n",
        "  This class wraps the GAN training structure.\n",
        "\n",
        "  Some arguments:\n",
        "  `visualization_helper_fn`: Used to visualize model outputs at the end of each epoch.\n",
        "  `G_loss_mode`: `{\"logD\" | \"log(1-D)\"}` Controls the loss function of the `generator`.\n",
        "  `generator`: The generator.\n",
        "  `discriminator`: The discriminator. The last layer is a LINEAR layer.\n",
        "  \"\"\"\n",
        "  def __init__(self, train_dataloader:torch.utils.data.DataLoader, test_dataloader:torch.utils.data.DataLoader,\n",
        "               noise_generator:NoiseGenerator, generator:nn.Module, discriminator:nn.Module,\n",
        "               G_lr, D_lr,\n",
        "               visualization_helper_fn, G_loss_mode):\n",
        "    self.train_dataloader = train_dataloader\n",
        "    self.test_dataloader = test_dataloader\n",
        "\n",
        "    self.noise_generator = noise_generator.to(device)\n",
        "    self.generator = generator.to(device)\n",
        "    self.discriminator = discriminator.to(device)\n",
        "\n",
        "    self.visualization_helper_fn = visualization_helper_fn\n",
        "    self.G_loss_mode = G_loss_mode\n",
        "    \n",
        "    #################### Problem 01 (1 points) ####################\n",
        "    # Define Adam optimizers with `G_lr` and `D_lr` learning rates.\n",
        "    ####################################################\n",
        "    self.opt_G = optim.Adam(self.generator.parameters(), lr=G_lr)\n",
        "    self.opt_D = optim.Adam(self.discriminator.parameters(), lr=D_lr)\n",
        "    ####################### End ########################\n",
        "\n",
        "  def generate_samples(self, n):\n",
        "    \"\"\"\n",
        "    This function generates `n` samples.\n",
        "    \"\"\"\n",
        "    #################### Problem 02 (1 points) ####################\n",
        "    # 1) Generate `n` noises\n",
        "    # 1) Transform noises to samples\n",
        "    ####################################################\n",
        "    noise = self.noise_generator(n)\n",
        "    noise = torch.unsqueeze(noise, dim=-1)\n",
        "    noise = torch.unsqueeze(noise, dim=-1)\n",
        "    fake_samples = self.generator(noise.to(device))\n",
        "    ####################### End ########################\n",
        "    return noise, fake_samples\n",
        "\n",
        "  def G_step(self, n):\n",
        "    \"\"\"\n",
        "    This function calculates `generator`'s loss for `n` samples.\n",
        "    \"\"\"\n",
        "    #################### Problem 03 (1 points) ####################\n",
        "    # 1) Generate `n` fake samples. put them in `x_fake`\n",
        "    # 2) Compute discriminator `logits` for generated samples\n",
        "    ####################################################\n",
        "    x_fake = self.generate_samples(n)[1]\n",
        "    logits = self.discriminator(x_fake).view(-1)\n",
        "    ####################### End ########################\n",
        "\n",
        "    if self.G_loss_mode == 'logD':\n",
        "      #################### Problem 04 (2 points) ####################\n",
        "      # Compute the `generator`'s loss when using `logD` as an objective.\n",
        "      # `loss = mean(...)`\n",
        "      #\n",
        "      # CAUTION!!!!! --->>>> PAY ATTENTION TO THE SIGN OF LOSS\n",
        "      ####################################################\n",
        "      criterion = nn.BCELoss()\n",
        "      loss = torch.mean(criterion(logits, torch.full((n,), 1, dtype=torch.float, device=device)))\n",
        "      ####################### End ########################\n",
        "\n",
        "    elif self.G_loss_mode == 'log(1-D)':\n",
        "      #################### Problem 05 (2 points) ####################\n",
        "      # Compute the `generator`'s loss when using `log(1-D)` as an objective.\n",
        "      # `loss = mean(...)`\n",
        "      #\n",
        "      # CAUTION!!!!! --->>>> PAY ATTENTION TO THE SIGN OF LOSS\n",
        "      ####################################################\n",
        "      criterion = nn.BCELoss()\n",
        "      loss = torch.mean(-criterion(logits, torch.full((n, ), 0, dtype=torch.float, device=device)))\n",
        "      ####################### End ########################\n",
        "\n",
        "    else:\n",
        "      raise BaseException('Invalid generator train mode!!')\n",
        "      \n",
        "    return loss, x_fake\n",
        "\n",
        "  def D_step(self, x_real):\n",
        "    \"\"\"\n",
        "    This function calculates `discriminator`'s loss for `x_real` and `x_fake`.\n",
        "    \"\"\"\n",
        "    #################### Problem 06 (1 points) ####################\n",
        "    # 1) Generate `n` fake samples. n is equal to length of real samples\n",
        "    #  put them in `x_fake`\n",
        "    # 2) Detach the generated samples.\n",
        "    ####################################################\n",
        "    x_fake = self.generate_samples(x_real.shape[0])[1].detach()\n",
        "    ####################### End ########################\n",
        "\n",
        "    #################### Problem 07 (2 points) ####################\n",
        "    # Compute discriminator `loss` for `x_real` and `x_fake`. \n",
        "    # `loss = mean(...)`\n",
        "    ####################################################\n",
        "    criterion = nn.BCELoss()\n",
        "    loss_real = torch.mean(criterion(self.discriminator(x_real).view(-1), torch.full((x_real.shape[0],), 1, dtype=torch.float, device=device)))\n",
        "    loss_fake = torch.mean(criterion(self.discriminator(x_fake).view(-1), torch.full((x_real.shape[0],), 0, dtype=torch.float, device=device)))\n",
        "    loss = loss_real + loss_fake\n",
        "    ####################### End ########################\n",
        "\n",
        "    return loss\n",
        "\n",
        "  def train_loop(self, epoch, G_update_times, D_update_times):\n",
        "    \"\"\"\n",
        "    This function iterates over `train_dataloader` and trains \n",
        "    `generator` and `discriminator` for ONE epoch.\n",
        "\n",
        "    Some arguments: \\n\n",
        "    `G_update_times`: how many times to update `generator` on each batch \\n\n",
        "    `D_update_times`: how many times to update `discriminator` on each batch \\n\n",
        "    \"\"\"\n",
        "    train_G_loss = 0\n",
        "    train_D_loss = 0\n",
        "\n",
        "    for batch_idx, (x, _) in enumerate(tqdm(self.train_dataloader)):\n",
        "      x = x.to(device)\n",
        "\n",
        "      for _ in range(D_update_times):\n",
        "        #################### Problem 08 (1 points) ####################\n",
        "        # 1) Put `generator` and `discriminator` in appropriate mode\n",
        "        # 2) Zero out `opt_D`'s gradients\n",
        "        # 3) Compute `discriminator`'s loss (`D_loss`); use `D_step`\n",
        "        # 4) Backpropagate `D_loss`\n",
        "        # 5) Update ``discriminator` parameters\n",
        "        ####################################################\n",
        "        self.discriminator.train()\n",
        "        self.generator.eval()\n",
        "        self.opt_D.zero_grad()\n",
        "        D_loss = self.D_step(x)\n",
        "        D_loss.backward()\n",
        "        self.opt_D.step()\n",
        "        ####################### End ########################\n",
        "\n",
        "      for _ in range(G_update_times):\n",
        "        #################### Problem 09 (1 points) ####################\n",
        "        # 1) Put `generator` and `discriminator` in appropriate mode\n",
        "        # 2) Zero out `opt_G`'s gradients\n",
        "        # 3) Compute `generator`'s loss (`G_loss`); use `G_step`\n",
        "        # 4) Backpropagate `G_loss`\n",
        "        # 5) Update `generator` parameters\n",
        "        ####################################################\n",
        "        self.generator.train()\n",
        "        self.discriminator.eval()\n",
        "        self.generator.zero_grad()\n",
        "        G_loss = self.G_step(x.shape[0])[0]\n",
        "        G_loss.backward()\n",
        "        self.opt_G.step()\n",
        "        ####################### End ########################\n",
        "      \n",
        "      train_D_loss += D_loss.item() * x.shape[0]\n",
        "      train_G_loss += G_loss.item() * x.shape[0]\n",
        "\n",
        "      if batch_idx % LOG_INTERVAL == 0:\n",
        "          print('Train | Epoch: {} [{}/{}]\\t\\tD-Loss: {:.6f}\\tG-Loss: {:.6f}'\n",
        "          .format(epoch, batch_idx * len(x), len(self.train_dataloader) * BATCH_SIZE, D_loss, G_loss))\n",
        "\n",
        "    train_D_loss /= len(self.train_dataloader) * BATCH_SIZE\n",
        "    train_G_loss /= len(self.train_dataloader) * BATCH_SIZE\n",
        "    \n",
        "    print('====> Train | Epoch: {} \\t | \\tAverage D-loss: {:.4f} \\t | \\tAverage G-loss: {:.4f}'.format(epoch, train_D_loss, train_G_loss,))\n",
        "    return train_G_loss, train_D_loss\n",
        "  \n",
        "  def test(self):\n",
        "    \"\"\"\n",
        "    This function iterates over `test_dataloader` and\n",
        "    reports `generator` and `discriminator` losses.\n",
        "    \"\"\"\n",
        "    self.discriminator.eval()\n",
        "    self.generator.eval()\n",
        "\n",
        "    test_G_loss = 0\n",
        "    test_D_loss = 0\n",
        "\n",
        "    with torch.no_grad():\n",
        "      for x, _ in self.test_dataloader:\n",
        "        x = x.to(device)\n",
        "\n",
        "        #################### Problem 10 (1 points) ####################\n",
        "        # 1) Put `generator` in `eval` mode\n",
        "        # 2) Put `discriminator` in `train` mode\n",
        "        # 4) Compute `discriminator`'s loss; use `D_step`\n",
        "        ####################################################\n",
        "        self.generator.eval()\n",
        "        self.discriminator.train()\n",
        "        D_loss = self.D_step(x)\n",
        "        ####################### End ########################\n",
        "\n",
        "        #################### Problem 11 (1 points) ####################\n",
        "        # 1) Put `generator` in `train` mode\n",
        "        # 2) Put `discriminator` in `eval` mode\n",
        "        # 4) Compute `generator`'s loss; use `G_step(n)` where `n = x.shape[0]`\n",
        "        ####################################################\n",
        "        self.generator.train()\n",
        "        self.discriminator.eval()\n",
        "        G_loss = self.G_step(x.shape[0])[0]\n",
        "        ####################### End ########################\n",
        "\n",
        "        test_D_loss += D_loss.item() * x.shape[0]\n",
        "        test_G_loss += G_loss.item() * x.shape[0]\n",
        "\n",
        "            \n",
        "    test_D_loss /= len(self.test_dataloader) * BATCH_SIZE\n",
        "    test_G_loss /= len(self.test_dataloader) * BATCH_SIZE\n",
        "    \n",
        "    print('====> Test | Average D-loss: {:.4f} \\t | \\tAverage G-loss: {:.4f}'.format(test_D_loss, test_G_loss,))\n",
        "    return test_G_loss, test_D_loss\n",
        "\n",
        "  def run(self, n_epoch, G_update_times=1, D_update_times=1):\n",
        "    \"\"\"\n",
        "    This function will optimize parameters of `generator` and `discriminator`\n",
        "    for `n_epoch` epochs on `train_dataloader` dataset and validate it on\n",
        "    `test_dataloader`. At the end of each epoch, `visualization_helper_fn`\n",
        "    will be called to visualize the GAN behavior.\n",
        "\n",
        "\n",
        "    Some arguments: \\n\n",
        "    `G_update_times`: how many times to update `generator` on each batch \\n\n",
        "    `D_update_times`: how many times to update `discriminator` on each batch \\n\n",
        "    \"\"\"\n",
        "    \n",
        "    for epoch in range(1, n_epoch + 1):\n",
        "        self.train_loop(epoch, G_update_times, D_update_times)\n",
        "        self.test()\n",
        "        self.visualization_helper_fn(self)   \n"
      ],
      "execution_count": 7,
      "outputs": []
    },
    {
      "cell_type": "markdown",
      "metadata": {
        "id": "gK5z8HidLZRp"
      },
      "source": [
        "### 7) Run GAN (10 ponits)\n"
      ]
    },
    {
      "cell_type": "markdown",
      "metadata": {
        "id": "EGDyuRV9uHxV"
      },
      "source": [
        "In this section, you will train a GAN for mnist dataset. Tune the learning rates for the generator and the discriminator, choose the loss function for the generator network and determine the number of epochs and the generator and discriminator's update times in each epoch."
      ]
    },
    {
      "cell_type": "code",
      "metadata": {
        "id": "4gFqs_ogLdp0",
        "colab": {
          "base_uri": "https://localhost:8080/",
          "height": 415,
          "referenced_widgets": [
            "2ec0ed4c2ac0482c8056361ae00ad877",
            "2748d657c5e0402db426176bf6caf59f",
            "c7d6a33c5c8a4524ac7b898c3bf4c150",
            "84730869f993409a9b7a712ebbddb562",
            "f85c89e7355540cc94d5d48c04988429",
            "43e15190239e4e58b8f9612dd94cbf00",
            "b7b0f66a669946b7b7764c78943ce856",
            "e99b9caec40c4cd496ab71ebe475e4dc"
          ]
        },
        "outputId": "d7e0a7c8-6051-4935-88a6-a995f1780019"
      },
      "source": [
        "LOG_INTERVAL = 50\n",
        "#################### Problem 18 (1 points) ####################\n",
        "# Tune `generator` and `discriminator` learning rates\n",
        "# and also the `G_LOSS_MODE`.\n",
        "####################################################\n",
        "MNIST_G_LEARNING_RATE = 0.01\n",
        "MNIST_D_LEARNING_RATE = 0.01\n",
        "G_LOSS_MODE = \"logD\"\n",
        "####################### End ########################\n",
        "\n",
        "mnist_trainer = GANTrainer(mnist_train_dataloader, mnist_test_dataloader,\n",
        "                           mnist_noise_generator, mnist_generator, mnist_discriminator,\n",
        "                           MNIST_G_LEARNING_RATE, MNIST_D_LEARNING_RATE,\n",
        "                           mnist_visulization_helper_fn, G_LOSS_MODE)\n",
        "\n",
        "#################### Problem 19 (1 points) ####################\n",
        "# Tune `n_epoch`, `G_update_times` and `D_update_times`\n",
        "####################################################\n",
        "mnist_trainer.run(n_epoch=1, G_update_times=10, D_update_times=10)\n",
        "####################### End ########################"
      ],
      "execution_count": 17,
      "outputs": [
        {
          "output_type": "display_data",
          "data": {
            "application/vnd.jupyter.widget-view+json": {
              "model_id": "2ec0ed4c2ac0482c8056361ae00ad877",
              "version_minor": 0,
              "version_major": 2
            },
            "text/plain": [
              "HBox(children=(FloatProgress(value=0.0, max=235.0), HTML(value='')))"
            ]
          },
          "metadata": {
            "tags": []
          }
        },
        {
          "output_type": "stream",
          "text": [
            "/usr/local/lib/python3.7/dist-packages/torch/utils/data/dataloader.py:481: UserWarning: This DataLoader will create 4 worker processes in total. Our suggested max number of worker in current system is 2, which is smaller than what this DataLoader is going to create. Please be aware that excessive worker creation might get DataLoader running slow or even freeze, lower the worker number to avoid potential slowness/freeze if necessary.\n",
            "  cpuset_checked))\n"
          ],
          "name": "stderr"
        },
        {
          "output_type": "stream",
          "text": [
            "Train | Epoch: 1 [0/60160]\t\tD-Loss: 0.000000\tG-Loss: 100.000000\n",
            "Train | Epoch: 1 [12800/60160]\t\tD-Loss: 0.000000\tG-Loss: 100.000000\n",
            "Train | Epoch: 1 [25600/60160]\t\tD-Loss: 0.000000\tG-Loss: 100.000000\n",
            "Train | Epoch: 1 [38400/60160]\t\tD-Loss: 0.000000\tG-Loss: 100.000000\n",
            "Train | Epoch: 1 [51200/60160]\t\tD-Loss: 0.000000\tG-Loss: 100.000000\n",
            "\n",
            "====> Train | Epoch: 1 \t | \tAverage D-loss: 0.0000 \t | \tAverage G-loss: 99.7340\n",
            "====> Test | Average D-loss: 0.0000 \t | \tAverage G-loss: 97.6562\n"
          ],
          "name": "stdout"
        },
        {
          "output_type": "display_data",
          "data": {
            "image/png": "[encoded data removed]",
            "text/plain": [
              "<Figure size 720x216 with 30 Axes>"
            ]
          },
          "metadata": {
            "tags": [],
            "needs_background": "light"
          }
        }
      ]
    },
    {
      "cell_type": "markdown",
      "metadata": {
        "id": "IZT2X6nU2BCE"
      },
      "source": [
        "Question 1) What will happen if the number of updates of discriminator network is much higher than the number of updates of generator network in each epoch? (2 points)\n",
        "\n",
        "Your answer:<br>\n",
        "<div dir=\"rtl\">\n",
        "اگر این کار را بکنیم، شبکه تمییزدهنده به سرعت قوی‌تر می‌شود و باعث می‌شود که به راحتی داده‌های تولید شده توسط مولد را به راحتی شناسایی کند و باعث شود که loss مولد کاهش نیابد و نتواند داده‌های خوبی تولید کند.\n",
        "</div>\n",
        "\n",
        "Question 2) What will happen if the number of updates of generator network is much higher than the number of updates of discriminator network in each epoch? (2 points)\n",
        "\n",
        "Your answer:<br>\n",
        "<div dir=\"rtl\">\n",
        "در این حالت عکس حالت بالا باعث می‌شود که شبکه مولد بتواند در اوایل آموزش داده‌های نسبتا خوبی تولید کند که شبکه تمییزدهنده نتواند آن‌ها را از داده‌های واقعی تشخیص دهد و این باعث می‌شود که در نهایت نیز داده‌های خروجی شبکه مولد از کیفیت خوبی برخوردار نباشند و فقط می‌توانند شبکه تمییزدهنده را فریب بدهند.\n",
        "</div>\n",
        "\n",
        "You can write your answers in persian."
      ]
    },
    {
      "cell_type": "markdown",
      "metadata": {
        "id": "myDWvCgCLppU"
      },
      "source": [
        "### 8) Final Visualization"
      ]
    },
    {
      "cell_type": "code",
      "metadata": {
        "id": "nJC6ft3WLrQG",
        "colab": {
          "base_uri": "https://localhost:8080/",
          "height": 193
        },
        "outputId": "a072013c-0963-442d-b45f-814a64972683"
      },
      "source": [
        "mnist_visulization_helper_fn(mnist_trainer)"
      ],
      "execution_count": 18,
      "outputs": [
        {
          "output_type": "display_data",
          "data": {
            "image/png": "[encoded data removed]",
            "text/plain": [
              "<Figure size 720x216 with 30 Axes>"
            ]
          },
          "metadata": {
            "tags": [],
            "needs_background": "light"
          }
        }
      ]
    },
    {
      "cell_type": "markdown",
      "metadata": {
        "id": "d_0-tHIELyLp"
      },
      "source": [
        "### 10) Interpolation (4 points)"
      ]
    },
    {
      "cell_type": "code",
      "metadata": {
        "id": "sRoT2Uw8L08-",
        "colab": {
          "base_uri": "https://localhost:8080/",
          "height": 307
        },
        "outputId": "a247c158-ac61-4945-eaba-b52e489f0f16"
      },
      "source": [
        "show_interpolations(mnist_trainer, 10, 10)"
      ],
      "execution_count": 19,
      "outputs": [
        {
          "output_type": "error",
          "ename": "RuntimeError",
          "evalue": "ignored",
          "traceback": [
            "\u001b[0;31m---------------------------------------------------------------------------\u001b[0m",
            "\u001b[0;31mRuntimeError\u001b[0m                              Traceback (most recent call last)",
            "\u001b[0;32m<ipython-input-19-a1d6976a7fee>\u001b[0m in \u001b[0;36m<module>\u001b[0;34m()\u001b[0m\n\u001b[0;32m----> 1\u001b[0;31m \u001b[0mshow_interpolations\u001b[0m\u001b[0;34m(\u001b[0m\u001b[0mmnist_trainer\u001b[0m\u001b[0;34m,\u001b[0m \u001b[0;36m10\u001b[0m\u001b[0;34m,\u001b[0m \u001b[0;36m10\u001b[0m\u001b[0;34m)\u001b[0m\u001b[0;34m\u001b[0m\u001b[0;34m\u001b[0m\u001b[0m\n\u001b[0m",
            "\u001b[0;32m<ipython-input-3-67422ecf24c1>\u001b[0m in \u001b[0;36mshow_interpolations\u001b[0;34m(trainer, n_rows, n_cols)\u001b[0m\n\u001b[1;32m     45\u001b[0m     \u001b[0mnoises\u001b[0m \u001b[0;34m=\u001b[0m \u001b[0mtorch\u001b[0m\u001b[0;34m.\u001b[0m\u001b[0mstack\u001b[0m\u001b[0;34m(\u001b[0m\u001b[0mrows\u001b[0m\u001b[0;34m,\u001b[0m \u001b[0mdim\u001b[0m\u001b[0;34m=\u001b[0m\u001b[0;36m0\u001b[0m\u001b[0;34m)\u001b[0m\u001b[0;34m.\u001b[0m\u001b[0mview\u001b[0m\u001b[0;34m(\u001b[0m\u001b[0mn_rows\u001b[0m \u001b[0;34m*\u001b[0m \u001b[0mn_cols\u001b[0m\u001b[0;34m,\u001b[0m \u001b[0;34m-\u001b[0m\u001b[0;36m1\u001b[0m\u001b[0;34m)\u001b[0m\u001b[0;34m\u001b[0m\u001b[0;34m\u001b[0m\u001b[0m\n\u001b[1;32m     46\u001b[0m     \u001b[0;32mwith\u001b[0m \u001b[0mtorch\u001b[0m\u001b[0;34m.\u001b[0m\u001b[0mno_grad\u001b[0m\u001b[0;34m(\u001b[0m\u001b[0;34m)\u001b[0m\u001b[0;34m:\u001b[0m\u001b[0;34m\u001b[0m\u001b[0;34m\u001b[0m\u001b[0m\n\u001b[0;32m---> 47\u001b[0;31m       \u001b[0mfake_imgs\u001b[0m \u001b[0;34m=\u001b[0m \u001b[0mtrainer\u001b[0m\u001b[0;34m.\u001b[0m\u001b[0mgenerator\u001b[0m\u001b[0;34m(\u001b[0m\u001b[0mnoises\u001b[0m\u001b[0;34m)\u001b[0m\u001b[0;34m\u001b[0m\u001b[0;34m\u001b[0m\u001b[0m\n\u001b[0m\u001b[1;32m     48\u001b[0m     \u001b[0mmnist_show\u001b[0m\u001b[0;34m(\u001b[0m\u001b[0mfake_imgs\u001b[0m\u001b[0;34m,\u001b[0m \u001b[0mn_rows\u001b[0m\u001b[0;34m)\u001b[0m\u001b[0;34m\u001b[0m\u001b[0;34m\u001b[0m\u001b[0m\n",
            "\u001b[0;32m/usr/local/lib/python3.7/dist-packages/torch/nn/modules/module.py\u001b[0m in \u001b[0;36m_call_impl\u001b[0;34m(self, *input, **kwargs)\u001b[0m\n\u001b[1;32m   1049\u001b[0m         if not (self._backward_hooks or self._forward_hooks or self._forward_pre_hooks or _global_backward_hooks\n\u001b[1;32m   1050\u001b[0m                 or _global_forward_hooks or _global_forward_pre_hooks):\n\u001b[0;32m-> 1051\u001b[0;31m             \u001b[0;32mreturn\u001b[0m \u001b[0mforward_call\u001b[0m\u001b[0;34m(\u001b[0m\u001b[0;34m*\u001b[0m\u001b[0minput\u001b[0m\u001b[0;34m,\u001b[0m \u001b[0;34m**\u001b[0m\u001b[0mkwargs\u001b[0m\u001b[0;34m)\u001b[0m\u001b[0;34m\u001b[0m\u001b[0;34m\u001b[0m\u001b[0m\n\u001b[0m\u001b[1;32m   1052\u001b[0m         \u001b[0;31m# Do not call functions when jit is used\u001b[0m\u001b[0;34m\u001b[0m\u001b[0;34m\u001b[0m\u001b[0;34m\u001b[0m\u001b[0m\n\u001b[1;32m   1053\u001b[0m         \u001b[0mfull_backward_hooks\u001b[0m\u001b[0;34m,\u001b[0m \u001b[0mnon_full_backward_hooks\u001b[0m \u001b[0;34m=\u001b[0m \u001b[0;34m[\u001b[0m\u001b[0;34m]\u001b[0m\u001b[0;34m,\u001b[0m \u001b[0;34m[\u001b[0m\u001b[0;34m]\u001b[0m\u001b[0;34m\u001b[0m\u001b[0;34m\u001b[0m\u001b[0m\n",
            "\u001b[0;32m/usr/local/lib/python3.7/dist-packages/torch/nn/modules/container.py\u001b[0m in \u001b[0;36mforward\u001b[0;34m(self, input)\u001b[0m\n\u001b[1;32m    137\u001b[0m     \u001b[0;32mdef\u001b[0m \u001b[0mforward\u001b[0m\u001b[0;34m(\u001b[0m\u001b[0mself\u001b[0m\u001b[0;34m,\u001b[0m \u001b[0minput\u001b[0m\u001b[0;34m)\u001b[0m\u001b[0;34m:\u001b[0m\u001b[0;34m\u001b[0m\u001b[0;34m\u001b[0m\u001b[0m\n\u001b[1;32m    138\u001b[0m         \u001b[0;32mfor\u001b[0m \u001b[0mmodule\u001b[0m \u001b[0;32min\u001b[0m \u001b[0mself\u001b[0m\u001b[0;34m:\u001b[0m\u001b[0;34m\u001b[0m\u001b[0;34m\u001b[0m\u001b[0m\n\u001b[0;32m--> 139\u001b[0;31m             \u001b[0minput\u001b[0m \u001b[0;34m=\u001b[0m \u001b[0mmodule\u001b[0m\u001b[0;34m(\u001b[0m\u001b[0minput\u001b[0m\u001b[0;34m)\u001b[0m\u001b[0;34m\u001b[0m\u001b[0;34m\u001b[0m\u001b[0m\n\u001b[0m\u001b[1;32m    140\u001b[0m         \u001b[0;32mreturn\u001b[0m \u001b[0minput\u001b[0m\u001b[0;34m\u001b[0m\u001b[0;34m\u001b[0m\u001b[0m\n\u001b[1;32m    141\u001b[0m \u001b[0;34m\u001b[0m\u001b[0m\n",
            "\u001b[0;32m/usr/local/lib/python3.7/dist-packages/torch/nn/modules/module.py\u001b[0m in \u001b[0;36m_call_impl\u001b[0;34m(self, *input, **kwargs)\u001b[0m\n\u001b[1;32m   1049\u001b[0m         if not (self._backward_hooks or self._forward_hooks or self._forward_pre_hooks or _global_backward_hooks\n\u001b[1;32m   1050\u001b[0m                 or _global_forward_hooks or _global_forward_pre_hooks):\n\u001b[0;32m-> 1051\u001b[0;31m             \u001b[0;32mreturn\u001b[0m \u001b[0mforward_call\u001b[0m\u001b[0;34m(\u001b[0m\u001b[0;34m*\u001b[0m\u001b[0minput\u001b[0m\u001b[0;34m,\u001b[0m \u001b[0;34m**\u001b[0m\u001b[0mkwargs\u001b[0m\u001b[0;34m)\u001b[0m\u001b[0;34m\u001b[0m\u001b[0;34m\u001b[0m\u001b[0m\n\u001b[0m\u001b[1;32m   1052\u001b[0m         \u001b[0;31m# Do not call functions when jit is used\u001b[0m\u001b[0;34m\u001b[0m\u001b[0;34m\u001b[0m\u001b[0;34m\u001b[0m\u001b[0m\n\u001b[1;32m   1053\u001b[0m         \u001b[0mfull_backward_hooks\u001b[0m\u001b[0;34m,\u001b[0m \u001b[0mnon_full_backward_hooks\u001b[0m \u001b[0;34m=\u001b[0m \u001b[0;34m[\u001b[0m\u001b[0;34m]\u001b[0m\u001b[0;34m,\u001b[0m \u001b[0;34m[\u001b[0m\u001b[0;34m]\u001b[0m\u001b[0;34m\u001b[0m\u001b[0;34m\u001b[0m\u001b[0m\n",
            "\u001b[0;32m/usr/local/lib/python3.7/dist-packages/torch/nn/modules/conv.py\u001b[0m in \u001b[0;36mforward\u001b[0;34m(self, input, output_size)\u001b[0m\n\u001b[1;32m    916\u001b[0m         return F.conv_transpose2d(\n\u001b[1;32m    917\u001b[0m             \u001b[0minput\u001b[0m\u001b[0;34m,\u001b[0m \u001b[0mself\u001b[0m\u001b[0;34m.\u001b[0m\u001b[0mweight\u001b[0m\u001b[0;34m,\u001b[0m \u001b[0mself\u001b[0m\u001b[0;34m.\u001b[0m\u001b[0mbias\u001b[0m\u001b[0;34m,\u001b[0m \u001b[0mself\u001b[0m\u001b[0;34m.\u001b[0m\u001b[0mstride\u001b[0m\u001b[0;34m,\u001b[0m \u001b[0mself\u001b[0m\u001b[0;34m.\u001b[0m\u001b[0mpadding\u001b[0m\u001b[0;34m,\u001b[0m\u001b[0;34m\u001b[0m\u001b[0;34m\u001b[0m\u001b[0m\n\u001b[0;32m--> 918\u001b[0;31m             output_padding, self.groups, self.dilation)\n\u001b[0m\u001b[1;32m    919\u001b[0m \u001b[0;34m\u001b[0m\u001b[0m\n\u001b[1;32m    920\u001b[0m \u001b[0;34m\u001b[0m\u001b[0m\n",
            "\u001b[0;31mRuntimeError\u001b[0m: Expected 4-dimensional input for 4-dimensional weight [100, 256, 4, 4], but got 2-dimensional input of size [100, 100] instead"
          ]
        }
      ]
    },
    {
      "cell_type": "markdown",
      "metadata": {
        "id": "x_C-K237kaOg"
      },
      "source": [
        "Question 3) Describe what is happening above (4 points). You can write your answer in persian.\n",
        "\n",
        "Your Answer:"
      ]
    }
  ]
}